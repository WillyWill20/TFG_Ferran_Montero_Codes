{
  "nbformat": 4,
  "nbformat_minor": 0,
  "metadata": {
    "colab": {
      "provenance": [],
      "gpuType": "A100"
    },
    "kernelspec": {
      "name": "python3",
      "display_name": "Python 3"
    },
    "language_info": {
      "name": "python"
    },
    "accelerator": "GPU"
  },
  "cells": [
    {
      "cell_type": "code",
      "source": [
        "from google.colab import drive\n",
        "drive.mount('/content/drive')"
      ],
      "metadata": {
        "colab": {
          "base_uri": "https://localhost:8080/"
        },
        "id": "gIB6h8Np7xUX",
        "outputId": "cdb40a6b-0fa3-4798-95a6-7691091c5685"
      },
      "execution_count": null,
      "outputs": [
        {
          "output_type": "stream",
          "name": "stdout",
          "text": [
            "Drive already mounted at /content/drive; to attempt to forcibly remount, call drive.mount(\"/content/drive\", force_remount=True).\n"
          ]
        }
      ]
    },
    {
      "cell_type": "code",
      "execution_count": null,
      "metadata": {
        "colab": {
          "base_uri": "https://localhost:8080/"
        },
        "id": "wjR_69UP7h-a",
        "outputId": "6a3906df-aeed-4489-acc5-07df8b1172ec"
      },
      "outputs": [
        {
          "output_type": "stream",
          "name": "stdout",
          "text": [
            "Running: python codiwill.py --epochs 30 --batch_size 16 --lr 0.0001\n",
            "Running: python codiwill.py --epochs 30 --batch_size 32 --lr 0.0001\n",
            "Running: python codiwill.py --epochs 30 --batch_size 64 --lr 0.0001\n",
            "Running: python codiwill.py --epochs 40 --batch_size 16 --lr 0.0001\n",
            "Running: python codiwill.py --epochs 40 --batch_size 32 --lr 0.0001\n",
            "Running: python codiwill.py --epochs 40 --batch_size 64 --lr 0.0001\n",
            "Running: python codiwill.py --epochs 50 --batch_size 16 --lr 0.0001\n",
            "Running: python codiwill.py --epochs 50 --batch_size 32 --lr 0.0001\n",
            "Running: python codiwill.py --epochs 50 --batch_size 64 --lr 0.0001\n"
          ]
        }
      ],
      "source": [
        "import sys\n",
        "import os\n",
        "import subprocess\n",
        "\n",
        "# Change the current working directory to the specified directory\n",
        "directory_path = '/content/drive/MyDrive'\n",
        "os.chdir(directory_path)\n",
        "\n",
        "# Add the directory containing lightning_unet.py to the Python path\n",
        "sys.path.append(\"/content/drive/MyDrive\")\n",
        "\n",
        "if __name__ == \"__main__\":\n",
        "    list_epochs = [30, 40, 50]\n",
        "    list_bs = [16,32,64]\n",
        "    list_lr = [0.0001]\n",
        "    for e in list_epochs:\n",
        "        for bs in list_bs:\n",
        "          for l in list_lr:\n",
        "              command = \"python codiwill.py --epochs {} --batch_size {} --lr {}\".format(e, bs, l)\n",
        "              print(f\"Running: {command}\")\n",
        "              os.system(command)"
      ]
    }
  ]
}